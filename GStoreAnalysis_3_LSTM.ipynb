{
 "cells": [
  {
   "cell_type": "code",
   "execution_count": 1,
   "metadata": {},
   "outputs": [
    {
     "name": "stdout",
     "output_type": "stream",
     "text": [
      "CPU times: user 2min 10s, sys: 7.15 s, total: 2min 17s\n",
      "Wall time: 2min 15s\n"
     ]
    },
    {
     "name": "stderr",
     "output_type": "stream",
     "text": [
      "<string>:2: DtypeWarning: Columns (0) have mixed types. Specify dtype option on import or set low_memory=False.\n"
     ]
    }
   ],
   "source": [
    "%%time\n",
    "import numpy as np\n",
    "import pandas as pd \n",
    "\n",
    "x_train_reduced = pd.read_csv('x_train_reduced.csv')\n",
    "x_test_reduced = pd.read_csv('x_test_reduced.csv')\n",
    "y_train2 = pd.read_csv('y_train2.csv')\n",
    "\n"
   ]
  },
  {
   "cell_type": "code",
   "execution_count": 2,
   "metadata": {},
   "outputs": [
    {
     "name": "stdout",
     "output_type": "stream",
     "text": [
      "CPU times: user 687 ms, sys: 684 ms, total: 1.37 s\n",
      "Wall time: 1.37 s\n"
     ]
    }
   ],
   "source": [
    "%%time\n",
    "x_train_reduced = x_train_reduced.loc[:, ~x_train_reduced.columns.str.contains('^Unnamed')]\n",
    "x_test_reduced = x_test_reduced.loc[:, ~x_test_reduced.columns.str.contains('^Unnamed')]\n"
   ]
  },
  {
   "cell_type": "code",
   "execution_count": 3,
   "metadata": {},
   "outputs": [
    {
     "name": "stdout",
     "output_type": "stream",
     "text": [
      "CPU times: user 3.49 ms, sys: 209 µs, total: 3.69 ms\n",
      "Wall time: 3.65 ms\n"
     ]
    }
   ],
   "source": [
    "%%time\n",
    "y_train3 = y_train2.drop(labels=['fullVisitorId'], axis=1)"
   ]
  },
  {
   "cell_type": "code",
   "execution_count": 4,
   "metadata": {
    "scrolled": true
   },
   "outputs": [
    {
     "name": "stderr",
     "output_type": "stream",
     "text": [
      "Using TensorFlow backend.\n"
     ]
    },
    {
     "name": "stdout",
     "output_type": "stream",
     "text": [
      "CPU times: user 1.03 s, sys: 188 ms, total: 1.22 s\n",
      "Wall time: 1.27 s\n"
     ]
    }
   ],
   "source": [
    "%%time\n",
    "from keras import models\n",
    "from keras import layers\n",
    "from keras.wrappers.scikit_learn import KerasClassifier\n",
    "from sklearn.model_selection import GridSearchCV\n",
    "from sklearn.model_selection import train_test_split\n",
    "from sklearn.metrics import mean_squared_error\n",
    "from keras.models import Sequential\n",
    "from keras.layers import Dense\n",
    "from keras.layers import LSTM, Bidirectional, Dropout\n",
    "from keras.callbacks import ReduceLROnPlateau\n",
    "from keras.layers import Input\n",
    "from keras.models import Model"
   ]
  },
  {
   "cell_type": "code",
   "execution_count": 5,
   "metadata": {},
   "outputs": [
    {
     "name": "stdout",
     "output_type": "stream",
     "text": [
      "(1323730, 290)\n",
      "(1323730, 1)\n",
      "CPU times: user 191 µs, sys: 12 µs, total: 203 µs\n",
      "Wall time: 146 µs\n"
     ]
    }
   ],
   "source": [
    "%%time\n",
    "\n",
    "print(x_train_reduced.shape)\n",
    "print(y_train3.shape)\n"
   ]
  },
  {
   "cell_type": "code",
   "execution_count": 6,
   "metadata": {},
   "outputs": [],
   "source": [
    "X_train, X_val, y_train, y_val = train_test_split(x_train_reduced, y_train3, test_size=0.15, random_state=666)"
   ]
  },
  {
   "cell_type": "code",
   "execution_count": 7,
   "metadata": {},
   "outputs": [
    {
     "name": "stdout",
     "output_type": "stream",
     "text": [
      "(1125170, 290)\n",
      "(198560, 290)\n",
      "(1125170, 1)\n",
      "(198560, 1)\n"
     ]
    }
   ],
   "source": [
    "print(X_train.shape)\n",
    "print(X_val.shape)\n",
    "print(y_train.shape)\n",
    "print(y_val.shape)"
   ]
  },
  {
   "cell_type": "code",
   "execution_count": 8,
   "metadata": {},
   "outputs": [],
   "source": [
    "# reshape input to be [samples, time steps, features] \n",
    "# trainX = np.reshape(X_train, (X_train.shape[0], 1, X_val.shape[1])) \n",
    "# testX = np.reshape(X_val, (X_val.shape[0], 1, X_val.shape[1]))\n",
    "X_train = X_train.values\n",
    "X_val = X_val.values\n",
    "y_train = y_train.values\n",
    "y_val = y_val.values\n",
    "X_train = X_train.reshape(X_train.shape[0],1,X_train.shape[1])\n",
    "X_val = X_val.reshape(X_val.shape[0],1,X_val.shape[1])"
   ]
  },
  {
   "cell_type": "code",
   "execution_count": 9,
   "metadata": {
    "scrolled": true
   },
   "outputs": [
    {
     "name": "stdout",
     "output_type": "stream",
     "text": [
      "(1125170, 1, 290)\n",
      "(198560, 1, 290)\n",
      "(1125170, 1)\n",
      "(198560, 1)\n"
     ]
    }
   ],
   "source": [
    "print(X_train.shape)\n",
    "print(X_val.shape)\n",
    "print(y_train.shape)\n",
    "print(y_val.shape)"
   ]
  },
  {
   "cell_type": "code",
   "execution_count": 10,
   "metadata": {},
   "outputs": [],
   "source": [
    "validation_RMSE = []\n",
    "train_RMSE = []"
   ]
  },
  {
   "cell_type": "code",
   "execution_count": 11,
   "metadata": {},
   "outputs": [
    {
     "name": "stdout",
     "output_type": "stream",
     "text": [
      "Train on 1125170 samples, validate on 198560 samples\n",
      "Epoch 1/4\n",
      "1125170/1125170 [==============================] - 274s 244us/step - loss: 0.4088 - val_loss: 0.3132\n",
      "Epoch 2/4\n",
      "1125170/1125170 [==============================] - 270s 240us/step - loss: 0.2363 - val_loss: 0.2195\n",
      "Epoch 3/4\n",
      "1125170/1125170 [==============================] - 268s 238us/step - loss: 0.1888 - val_loss: 0.2036\n",
      "Epoch 4/4\n",
      "1125170/1125170 [==============================] - 266s 237us/step - loss: 0.1601 - val_loss: 0.2483\n",
      "CPU times: user 24min 21s, sys: 3min 56s, total: 28min 18s\n",
      "Wall time: 18min 3s\n"
     ]
    }
   ],
   "source": [
    "%%time\n",
    "\n",
    "\n",
    "\n",
    "inputs = Input(shape=(1,290))\n",
    "x = Bidirectional(LSTM(200,recurrent_dropout=0.2, kernel_initializer='lecun_normal', return_sequences=True))(inputs)\n",
    "x = Bidirectional(LSTM(120,recurrent_dropout=0.2, kernel_initializer='lecun_normal'))(x)\n",
    "x = Dense(50, activation='sigmoid')(x)\n",
    "x = Dropout(0.1)(x)\n",
    "x = Dense(20,activation='elu')(x)\n",
    "output = Dense(1,activation='linear')(x)\n",
    "\n",
    "model2 = Model(inputs=inputs, outputs=output)\n",
    "model2.compile(loss='mse', optimizer='adam')\n",
    "model2.fit(X_train, y_train, epochs=4, batch_size=64, validation_data=(X_val, y_val), verbose=1, shuffle=False)"
   ]
  },
  {
   "cell_type": "code",
   "execution_count": 12,
   "metadata": {
    "scrolled": true
   },
   "outputs": [
    {
     "name": "stdout",
     "output_type": "stream",
     "text": [
      "LSTM: RMSE val: 0.498263463600939  - RMSE train: 0.44492003342182757\n",
      "CPU times: user 2min 34s, sys: 25.1 s, total: 2min 59s\n",
      "Wall time: 2min 4s\n"
     ]
    }
   ],
   "source": [
    "%%time\n",
    "y_pred_train2 = model2.predict(X_train)\n",
    "y_pred_val2 = model2.predict(X_val)\n",
    "\n",
    "RMSE_val2 = np.sqrt(mean_squared_error(y_val, y_pred_val2))\n",
    "RMSE_train2 = np.sqrt(mean_squared_error(y_train, y_pred_train2))\n",
    "\n",
    "validation_RMSE.append(RMSE_val2)\n",
    "train_RMSE.append(RMSE_train2)\n",
    "print(f\"LSTM: RMSE val: {RMSE_val2}  - RMSE train: {RMSE_train2}\")"
   ]
  },
  {
   "cell_type": "code",
   "execution_count": 13,
   "metadata": {
    "scrolled": true
   },
   "outputs": [
    {
     "name": "stdout",
     "output_type": "stream",
     "text": [
      "Train on 1125170 samples, validate on 198560 samples\n",
      "Epoch 1/10\n",
      "1125170/1125170 [==============================] - 272s 242us/step - loss: 0.3997 - val_loss: 0.2804\n",
      "Epoch 2/10\n",
      "1125170/1125170 [==============================] - 267s 238us/step - loss: 0.2373 - val_loss: 0.1936\n",
      "Epoch 3/10\n",
      "1125170/1125170 [==============================] - 266s 237us/step - loss: 0.1909 - val_loss: 0.1977\n",
      "Epoch 4/10\n",
      "1125170/1125170 [==============================] - 266s 236us/step - loss: 0.1678 - val_loss: 0.2167\n",
      "Epoch 5/10\n",
      "1125170/1125170 [==============================] - 261s 232us/step - loss: 0.1482 - val_loss: 0.1941\n",
      "Epoch 6/10\n",
      "1125170/1125170 [==============================] - 256s 228us/step - loss: 0.1374 - val_loss: 0.1583\n",
      "Epoch 7/10\n",
      "1125170/1125170 [==============================] - 256s 227us/step - loss: 0.1208 - val_loss: 0.1558\n",
      "Epoch 8/10\n",
      "1125170/1125170 [==============================] - 256s 227us/step - loss: 0.1136 - val_loss: 0.1568\n",
      "Epoch 9/10\n",
      "1125170/1125170 [==============================] - 256s 227us/step - loss: 0.1076 - val_loss: 0.1688\n",
      "Epoch 10/10\n",
      "1125170/1125170 [==============================] - 256s 228us/step - loss: 0.1059 - val_loss: 0.1753\n",
      "CPU times: user 58min 57s, sys: 9min 32s, total: 1h 8min 30s\n",
      "Wall time: 43min 36s\n"
     ]
    }
   ],
   "source": [
    "%%time\n",
    "\n",
    "inputs = Input(shape=(1,290))\n",
    "x = Bidirectional(LSTM(200,recurrent_dropout=0.2, kernel_initializer='lecun_normal', return_sequences=True))(inputs)\n",
    "x = Bidirectional(LSTM(120,recurrent_dropout=0.2, kernel_initializer='lecun_normal'))(x)\n",
    "x = Dense(50, activation='sigmoid')(x)\n",
    "x = Dropout(0.1)(x)\n",
    "x = Dense(20,activation='elu')(x)\n",
    "output = Dense(1,activation='linear')(x)\n",
    "\n",
    "model3 = Model(inputs=inputs, outputs=output)\n",
    "model3.compile(loss='mse', optimizer='adam')\n",
    "model3.fit(X_train, y_train, epochs=10, batch_size=64, validation_data=(X_val, y_val), verbose=1, shuffle=False)"
   ]
  },
  {
   "cell_type": "code",
   "execution_count": 14,
   "metadata": {
    "scrolled": true
   },
   "outputs": [
    {
     "name": "stdout",
     "output_type": "stream",
     "text": [
      "LSTM: RMSE val: 0.4187457246850832  - RMSE train: 0.31612219724609214\n",
      "CPU times: user 2min 29s, sys: 24.9 s, total: 2min 54s\n",
      "Wall time: 2min 2s\n"
     ]
    }
   ],
   "source": [
    "%%time\n",
    "y_pred_train3 = model3.predict(X_train)\n",
    "y_pred_val3 = model3.predict(X_val)\n",
    "\n",
    "RMSE_val3 = np.sqrt(mean_squared_error(y_val, y_pred_val3))\n",
    "RMSE_train3 = np.sqrt(mean_squared_error(y_train, y_pred_train3))\n",
    "\n",
    "validation_RMSE.append(RMSE_val3)\n",
    "train_RMSE.append(RMSE_train3)\n",
    "print(f\"LSTM: RMSE val: {RMSE_val3}  - RMSE train: {RMSE_train3}\")\n"
   ]
  },
  {
   "cell_type": "code",
   "execution_count": 15,
   "metadata": {},
   "outputs": [
    {
     "name": "stdout",
     "output_type": "stream",
     "text": [
      "Train on 1125170 samples, validate on 198560 samples\n",
      "Epoch 1/20\n",
      "1125170/1125170 [==============================] - 267s 237us/step - loss: 0.4081 - val_loss: 0.2702\n",
      "Epoch 2/20\n",
      "1125170/1125170 [==============================] - 263s 234us/step - loss: 0.2360 - val_loss: 0.2291\n",
      "Epoch 3/20\n",
      "1125170/1125170 [==============================] - 263s 234us/step - loss: 0.1900 - val_loss: 0.1955\n",
      "Epoch 4/20\n",
      "1125170/1125170 [==============================] - 263s 234us/step - loss: 0.1607 - val_loss: 0.1729\n",
      "Epoch 5/20\n",
      "1125170/1125170 [==============================] - 263s 234us/step - loss: 0.1412 - val_loss: 0.2135\n",
      "Epoch 6/20\n",
      "1125170/1125170 [==============================] - 263s 234us/step - loss: 0.1357 - val_loss: 0.1707\n",
      "Epoch 7/20\n",
      "1125170/1125170 [==============================] - 263s 234us/step - loss: 0.1215 - val_loss: 0.1693\n",
      "Epoch 8/20\n",
      "1125170/1125170 [==============================] - 264s 234us/step - loss: 0.1141 - val_loss: 0.1586\n",
      "Epoch 9/20\n",
      "1125170/1125170 [==============================] - 263s 234us/step - loss: 0.1095 - val_loss: 0.1658\n",
      "Epoch 10/20\n",
      "1125170/1125170 [==============================] - 263s 234us/step - loss: 0.1019 - val_loss: 0.1662\n",
      "Epoch 11/20\n",
      "1125170/1125170 [==============================] - 263s 234us/step - loss: 0.0979 - val_loss: 0.1614\n",
      "Epoch 12/20\n",
      "1125170/1125170 [==============================] - 263s 234us/step - loss: 0.0922 - val_loss: 0.2147\n",
      "Epoch 13/20\n",
      "1125170/1125170 [==============================] - 264s 234us/step - loss: 0.0932 - val_loss: 0.1779\n",
      "Epoch 14/20\n",
      "1125170/1125170 [==============================] - 263s 233us/step - loss: 0.0863 - val_loss: 0.1727\n",
      "Epoch 15/20\n",
      "1125170/1125170 [==============================] - 263s 234us/step - loss: 0.0814 - val_loss: 0.1571\n",
      "Epoch 16/20\n",
      "1125170/1125170 [==============================] - 263s 234us/step - loss: 0.0833 - val_loss: 0.1552\n",
      "Epoch 17/20\n",
      "1125170/1125170 [==============================] - 263s 234us/step - loss: 0.0796 - val_loss: 0.1584\n",
      "Epoch 18/20\n",
      "1125170/1125170 [==============================] - 263s 234us/step - loss: 0.0780 - val_loss: 0.1493\n",
      "Epoch 19/20\n",
      "1125170/1125170 [==============================] - 263s 234us/step - loss: 0.0804 - val_loss: 0.1558\n",
      "Epoch 20/20\n",
      "1125170/1125170 [==============================] - 263s 234us/step - loss: 0.0752 - val_loss: 0.1510\n",
      "CPU times: user 1h 58min 35s, sys: 18min 55s, total: 2h 17min 31s\n",
      "Wall time: 1h 27min 52s\n"
     ]
    }
   ],
   "source": [
    "%%time\n",
    "\n",
    "inputs = Input(shape=(1,290))\n",
    "x = Bidirectional(LSTM(200,recurrent_dropout=0.2, kernel_initializer='lecun_normal', return_sequences=True))(inputs)\n",
    "x = Bidirectional(LSTM(120,recurrent_dropout=0.2, kernel_initializer='lecun_normal'))(x)\n",
    "x = Dense(50, activation='sigmoid')(x)\n",
    "x = Dropout(0.1)(x)\n",
    "x = Dense(20,activation='elu')(x)\n",
    "output = Dense(1,activation='linear')(x)\n",
    "\n",
    "model4 = Model(inputs=inputs, outputs=output)\n",
    "model4.compile(loss='mse', optimizer='adam')\n",
    "model4.fit(X_train, y_train, epochs=20, batch_size=64, validation_data=(X_val, y_val), verbose=1, shuffle=False)"
   ]
  },
  {
   "cell_type": "code",
   "execution_count": 16,
   "metadata": {
    "scrolled": true
   },
   "outputs": [
    {
     "name": "stdout",
     "output_type": "stream",
     "text": [
      "LSTM: RMSE val: 0.3886240025879879  - RMSE train: 0.2709763217969909\n",
      "CPU times: user 2min 31s, sys: 24.9 s, total: 2min 56s\n",
      "Wall time: 2min 3s\n"
     ]
    }
   ],
   "source": [
    "%%time\n",
    "y_pred_train_4 = model4.predict(X_train)\n",
    "y_pred_val_4 = model4.predict(X_val)\n",
    "\n",
    "validation_RMSE.append(np.sqrt(mean_squared_error(y_val, y_pred_val_4)))\n",
    "train_RMSE.append(np.sqrt(mean_squared_error(y_train, y_pred_train_4)))\n",
    "print(f\"LSTM: RMSE val: {np.sqrt(mean_squared_error(y_val, y_pred_val_4))}  - RMSE train: {np.sqrt(mean_squared_error(y_train, y_pred_train_4))}\")"
   ]
  },
  {
   "cell_type": "code",
   "execution_count": 17,
   "metadata": {},
   "outputs": [
    {
     "name": "stdout",
     "output_type": "stream",
     "text": [
      "Train on 1125170 samples, validate on 198560 samples\n",
      "Epoch 1/10\n",
      "1125170/1125170 [==============================] - 269s 239us/step - loss: 0.4115 - val_loss: 0.2646\n",
      "Epoch 2/10\n",
      "1125170/1125170 [==============================] - 264s 235us/step - loss: 0.2364 - val_loss: 0.2231\n",
      "Epoch 3/10\n",
      "1125170/1125170 [==============================] - 258s 229us/step - loss: 0.1899 - val_loss: 0.1917\n",
      "Epoch 4/10\n",
      "1125170/1125170 [==============================] - 257s 229us/step - loss: 0.1651 - val_loss: 0.1866\n",
      "Epoch 5/10\n",
      "1125170/1125170 [==============================] - 257s 228us/step - loss: 0.1471 - val_loss: 0.1941\n",
      "Epoch 6/10\n",
      "1125170/1125170 [==============================] - 257s 229us/step - loss: 0.1350 - val_loss: 0.1737\n",
      "Epoch 7/10\n",
      "1125170/1125170 [==============================] - 257s 228us/step - loss: 0.1265 - val_loss: 0.1683\n",
      "Epoch 8/10\n",
      "1125170/1125170 [==============================] - 257s 229us/step - loss: 0.1166 - val_loss: 0.1591\n",
      "Epoch 9/10\n",
      "1125170/1125170 [==============================] - 257s 228us/step - loss: 0.1108 - val_loss: 0.2000\n",
      "Epoch 10/10\n",
      "1125170/1125170 [==============================] - 257s 228us/step - loss: 0.1031 - val_loss: 0.1661\n",
      "CPU times: user 58min 29s, sys: 9min 31s, total: 1h 8min 1s\n",
      "Wall time: 43min 15s\n"
     ]
    }
   ],
   "source": [
    "%%time\n",
    "\n",
    "inputs = Input(shape=(1,290))\n",
    "x = Bidirectional(LSTM(200,recurrent_dropout=0.4, kernel_initializer='lecun_normal', return_sequences=True))(inputs)\n",
    "x = Bidirectional(LSTM(120,recurrent_dropout=0.4, kernel_initializer='lecun_normal'))(x)\n",
    "x = Dense(50, activation='sigmoid')(x)\n",
    "x = Dropout(0.1)(x)\n",
    "x = Dense(20,activation='elu')(x)\n",
    "output = Dense(1,activation='linear')(x)\n",
    "\n",
    "model5 = Model(inputs=inputs, outputs=output)\n",
    "model5.compile(loss='mse', optimizer='adam')\n",
    "model5.fit(X_train, y_train, epochs=10, batch_size=64, validation_data=(X_val, y_val), verbose=1, shuffle=False)"
   ]
  },
  {
   "cell_type": "code",
   "execution_count": 18,
   "metadata": {},
   "outputs": [
    {
     "name": "stdout",
     "output_type": "stream",
     "text": [
      "LSTM: RMSE val: 0.40751301144298535  - RMSE train: 0.2975023635939494\n",
      "CPU times: user 2min 31s, sys: 25.4 s, total: 2min 56s\n",
      "Wall time: 2min 3s\n"
     ]
    }
   ],
   "source": [
    "%%time\n",
    "y_pred_train_5 = model5.predict(X_train)\n",
    "y_pred_val_5 = model5.predict(X_val)\n",
    "\n",
    "validation_RMSE.append(np.sqrt(mean_squared_error(y_val, y_pred_val_5)))\n",
    "train_RMSE.append(np.sqrt(mean_squared_error(y_train, y_pred_train_5)))\n",
    "print(f\"LSTM: RMSE val: {np.sqrt(mean_squared_error(y_val, y_pred_val_5))}  - RMSE train: {np.sqrt(mean_squared_error(y_train, y_pred_train_5))}\")"
   ]
  },
  {
   "cell_type": "code",
   "execution_count": 19,
   "metadata": {},
   "outputs": [
    {
     "name": "stdout",
     "output_type": "stream",
     "text": [
      "Train on 1125170 samples, validate on 198560 samples\n",
      "Epoch 1/10\n",
      "1125170/1125170 [==============================] - 268s 238us/step - loss: 0.4041 - val_loss: 0.2660\n",
      "Epoch 2/10\n",
      "1125170/1125170 [==============================] - 263s 234us/step - loss: 0.2272 - val_loss: 0.2156\n",
      "Epoch 3/10\n",
      "1125170/1125170 [==============================] - 262s 233us/step - loss: 0.1854 - val_loss: 0.2033\n",
      "Epoch 4/10\n",
      "1125170/1125170 [==============================] - 262s 233us/step - loss: 0.1637 - val_loss: 0.2065\n",
      "Epoch 5/10\n",
      "1125170/1125170 [==============================] - 262s 233us/step - loss: 0.1470 - val_loss: 0.1845\n",
      "Epoch 6/10\n",
      "1125170/1125170 [==============================] - 262s 233us/step - loss: 0.1342 - val_loss: 0.1775\n",
      "Epoch 7/10\n",
      "1125170/1125170 [==============================] - 263s 234us/step - loss: 0.1255 - val_loss: 0.2218\n",
      "Epoch 8/10\n",
      "1125170/1125170 [==============================] - 263s 233us/step - loss: 0.1139 - val_loss: 0.1625\n",
      "Epoch 9/10\n",
      "1125170/1125170 [==============================] - 261s 232us/step - loss: 0.1094 - val_loss: 0.1751\n",
      "Epoch 10/10\n",
      "1125170/1125170 [==============================] - 263s 233us/step - loss: 0.1066 - val_loss: 0.1622\n",
      "CPU times: user 59min 11s, sys: 9min 32s, total: 1h 8min 43s\n",
      "Wall time: 43min 53s\n"
     ]
    }
   ],
   "source": [
    "%%time\n",
    "\n",
    "inputs = Input(shape=(1,290))\n",
    "x = Bidirectional(LSTM(200,recurrent_dropout=0.6, kernel_initializer='lecun_normal', return_sequences=True))(inputs)\n",
    "x = Bidirectional(LSTM(120,recurrent_dropout=0.6, kernel_initializer='lecun_normal'))(x)\n",
    "x = Dense(50, activation='sigmoid')(x)\n",
    "x = Dropout(0.1)(x)\n",
    "x = Dense(20,activation='elu')(x)\n",
    "output = Dense(1,activation='linear')(x)\n",
    "\n",
    "model6 = Model(inputs=inputs, outputs=output)\n",
    "model6.compile(loss='mse', optimizer='adam')\n",
    "model6.fit(X_train, y_train, epochs=10, batch_size=64, validation_data=(X_val, y_val), verbose=1, shuffle=False)"
   ]
  },
  {
   "cell_type": "code",
   "execution_count": 20,
   "metadata": {},
   "outputs": [
    {
     "name": "stdout",
     "output_type": "stream",
     "text": [
      "LSTM: RMSE val: 0.4027132259646394  - RMSE train: 0.2781350547006209\n",
      "CPU times: user 2min 32s, sys: 24.3 s, total: 2min 57s\n",
      "Wall time: 2min 5s\n"
     ]
    }
   ],
   "source": [
    "%%time\n",
    "y_pred_train_6 = model6.predict(X_train)\n",
    "y_pred_val_6 = model6.predict(X_val)\n",
    "\n",
    "validation_RMSE.append(np.sqrt(mean_squared_error(y_val, y_pred_val_6)))\n",
    "train_RMSE.append(np.sqrt(mean_squared_error(y_train, y_pred_train_6)))\n",
    "\n",
    "print(f\"LSTM: RMSE val: {np.sqrt(mean_squared_error(y_val, y_pred_val_6))}  - RMSE train: {np.sqrt(mean_squared_error(y_train, y_pred_train_6))}\")"
   ]
  },
  {
   "cell_type": "code",
   "execution_count": 21,
   "metadata": {},
   "outputs": [
    {
     "name": "stdout",
     "output_type": "stream",
     "text": [
      "Train on 1125170 samples, validate on 198560 samples\n",
      "Epoch 1/10\n",
      "1125170/1125170 [==============================] - 266s 237us/step - loss: 0.4065 - val_loss: 0.2919\n",
      "Epoch 2/10\n",
      "1125170/1125170 [==============================] - 261s 232us/step - loss: 0.2329 - val_loss: 0.2824\n",
      "Epoch 3/10\n",
      "1125170/1125170 [==============================] - 261s 232us/step - loss: 0.1866 - val_loss: 0.2100\n",
      "Epoch 4/10\n",
      "1125170/1125170 [==============================] - 260s 231us/step - loss: 0.1629 - val_loss: 0.1711\n",
      "Epoch 5/10\n",
      "1125170/1125170 [==============================] - 261s 232us/step - loss: 0.1404 - val_loss: 0.1776\n",
      "Epoch 6/10\n",
      "1125170/1125170 [==============================] - 260s 231us/step - loss: 0.1347 - val_loss: 0.1714\n",
      "Epoch 7/10\n",
      "1125170/1125170 [==============================] - 261s 232us/step - loss: 0.1258 - val_loss: 0.1978\n",
      "Epoch 8/10\n",
      "1125170/1125170 [==============================] - 261s 232us/step - loss: 0.1155 - val_loss: 0.1626\n",
      "Epoch 9/10\n",
      "1125170/1125170 [==============================] - 261s 232us/step - loss: 0.1081 - val_loss: 0.1559\n",
      "Epoch 10/10\n",
      "1125170/1125170 [==============================] - 261s 232us/step - loss: 0.1034 - val_loss: 0.1705\n",
      "CPU times: user 59min 5s, sys: 9min 22s, total: 1h 8min 28s\n",
      "Wall time: 43min 35s\n"
     ]
    }
   ],
   "source": [
    "%%time\n",
    "\n",
    "inputs = Input(shape=(1,290))\n",
    "x = Bidirectional(LSTM(180,recurrent_dropout=0.2, kernel_initializer='lecun_normal', return_sequences=True))(inputs)\n",
    "x = Bidirectional(LSTM(100,recurrent_dropout=0.2, kernel_initializer='lecun_normal'))(x)\n",
    "x = Dense(50, activation='sigmoid')(x)\n",
    "x = Dropout(0.1)(x)\n",
    "x = Dense(20,activation='elu')(x)\n",
    "output = Dense(1,activation='linear')(x)\n",
    "\n",
    "model7 = Model(inputs=inputs, outputs=output)\n",
    "model7.compile(loss='mse', optimizer='adam')\n",
    "model7.fit(X_train, y_train, epochs=10, batch_size=64, validation_data=(X_val, y_val), verbose=1, shuffle=False)"
   ]
  },
  {
   "cell_type": "code",
   "execution_count": 22,
   "metadata": {},
   "outputs": [
    {
     "name": "stdout",
     "output_type": "stream",
     "text": [
      "LSTM: RMSE val: 0.41295564088532694  - RMSE train: 0.32001331015233897\n",
      "CPU times: user 2min 36s, sys: 24.5 s, total: 3min\n",
      "Wall time: 2min 7s\n"
     ]
    }
   ],
   "source": [
    "%%time\n",
    "y_pred_train_7 = model7.predict(X_train)\n",
    "y_pred_val_7 = model7.predict(X_val)\n",
    "\n",
    "\n",
    "validation_RMSE.append(np.sqrt(mean_squared_error(y_val, y_pred_val_7)))\n",
    "train_RMSE.append(np.sqrt(mean_squared_error(y_train, y_pred_train_7)))\n",
    "print(f\"LSTM: RMSE val: {np.sqrt(mean_squared_error(y_val, y_pred_val_7))}  - RMSE train: {np.sqrt(mean_squared_error(y_train, y_pred_train_7))}\")"
   ]
  },
  {
   "cell_type": "code",
   "execution_count": 23,
   "metadata": {},
   "outputs": [
    {
     "name": "stdout",
     "output_type": "stream",
     "text": [
      "Train on 1125170 samples, validate on 198560 samples\n",
      "Epoch 1/10\n",
      "1125170/1125170 [==============================] - 521s 463us/step - loss: 0.4160 - val_loss: 0.3027\n",
      "Epoch 2/10\n",
      "1125170/1125170 [==============================] - 514s 456us/step - loss: 0.2399 - val_loss: 0.1996\n",
      "Epoch 3/10\n",
      "1125170/1125170 [==============================] - 515s 457us/step - loss: 0.1979 - val_loss: 0.1921\n",
      "Epoch 4/10\n",
      "1125170/1125170 [==============================] - 514s 457us/step - loss: 0.1666 - val_loss: 0.1950\n",
      "Epoch 5/10\n",
      "1125170/1125170 [==============================] - 514s 457us/step - loss: 0.1516 - val_loss: 0.1650\n",
      "Epoch 6/10\n",
      "1125170/1125170 [==============================] - 515s 458us/step - loss: 0.1359 - val_loss: 0.2280\n",
      "Epoch 7/10\n",
      "1125170/1125170 [==============================] - 515s 457us/step - loss: 0.1308 - val_loss: 0.2013\n",
      "Epoch 8/10\n",
      "1125170/1125170 [==============================] - 514s 457us/step - loss: 0.1195 - val_loss: 0.1753\n",
      "Epoch 9/10\n",
      "1125170/1125170 [==============================] - 515s 458us/step - loss: 0.1152 - val_loss: 0.1905\n",
      "Epoch 10/10\n",
      "1125170/1125170 [==============================] - 515s 458us/step - loss: 0.1101 - val_loss: 0.1678\n",
      "CPU times: user 1h 56min 15s, sys: 18min 50s, total: 2h 15min 5s\n",
      "Wall time: 1h 25min 55s\n"
     ]
    }
   ],
   "source": [
    "%%time\n",
    "\n",
    "inputs = Input(shape=(1,290))\n",
    "x = Bidirectional(LSTM(200,recurrent_dropout=0.2, kernel_initializer='lecun_normal', return_sequences=True))(inputs)\n",
    "x = Bidirectional(LSTM(120,recurrent_dropout=0.2, kernel_initializer='lecun_normal'))(x)\n",
    "x = Dense(50, activation='sigmoid')(x)\n",
    "x = Dropout(0.1)(x)\n",
    "x = Dense(20,activation='elu')(x)\n",
    "output = Dense(1,activation='linear')(x)\n",
    "\n",
    "model8 = Model(inputs=inputs, outputs=output)\n",
    "model8.compile(loss='mse', optimizer='adam')\n",
    "model8.fit(X_train, y_train, epochs=10, batch_size=32, validation_data=(X_val, y_val), verbose=1, shuffle=False)"
   ]
  },
  {
   "cell_type": "code",
   "execution_count": 24,
   "metadata": {},
   "outputs": [
    {
     "name": "stdout",
     "output_type": "stream",
     "text": [
      "LSTM: RMSE val: 0.4095827585142021  - RMSE train: 0.304001156275449\n",
      "CPU times: user 2min 34s, sys: 25.1 s, total: 2min 59s\n",
      "Wall time: 2min 6s\n"
     ]
    }
   ],
   "source": [
    "%%time\n",
    "y_pred_train_8 = model8.predict(X_train)\n",
    "y_pred_val_8 = model8.predict(X_val)\n",
    "\n",
    "validation_RMSE.append(np.sqrt(mean_squared_error(y_val, y_pred_val_8)))\n",
    "train_RMSE.append(np.sqrt(mean_squared_error(y_train, y_pred_train_8)))\n",
    "print(f\"LSTM: RMSE val: {np.sqrt(mean_squared_error(y_val, y_pred_val_8))}  - RMSE train: {np.sqrt(mean_squared_error(y_train, y_pred_train_8))}\")"
   ]
  },
  {
   "cell_type": "code",
   "execution_count": 25,
   "metadata": {},
   "outputs": [
    {
     "name": "stdout",
     "output_type": "stream",
     "text": [
      "Train on 1125170 samples, validate on 198560 samples\n",
      "Epoch 1/10\n",
      "1125170/1125170 [==============================] - 138s 123us/step - loss: 0.4160 - val_loss: 0.3111\n",
      "Epoch 2/10\n",
      "1125170/1125170 [==============================] - 132s 118us/step - loss: 0.2321 - val_loss: 0.1789\n",
      "Epoch 3/10\n",
      "1125170/1125170 [==============================] - 132s 117us/step - loss: 0.1845 - val_loss: 0.1659\n",
      "Epoch 4/10\n",
      "1125170/1125170 [==============================] - 132s 117us/step - loss: 0.1575 - val_loss: 0.1819\n",
      "Epoch 5/10\n",
      "1125170/1125170 [==============================] - 132s 117us/step - loss: 0.1397 - val_loss: 0.2214\n",
      "Epoch 6/10\n",
      "1125170/1125170 [==============================] - 132s 117us/step - loss: 0.1363 - val_loss: 0.1973\n",
      "Epoch 7/10\n",
      "1125170/1125170 [==============================] - 132s 117us/step - loss: 0.1281 - val_loss: 0.1448\n",
      "Epoch 8/10\n",
      "1125170/1125170 [==============================] - 132s 118us/step - loss: 0.1153 - val_loss: 0.1541\n",
      "Epoch 9/10\n",
      "1125170/1125170 [==============================] - 132s 118us/step - loss: 0.1059 - val_loss: 0.1558\n",
      "Epoch 10/10\n",
      "1125170/1125170 [==============================] - 132s 117us/step - loss: 0.0989 - val_loss: 0.1781\n",
      "CPU times: user 30min 2s, sys: 4min 53s, total: 34min 56s\n",
      "Wall time: 22min 12s\n"
     ]
    }
   ],
   "source": [
    "%%time\n",
    "\n",
    "inputs = Input(shape=(1,290))\n",
    "x = Bidirectional(LSTM(200,recurrent_dropout=0.2, kernel_initializer='lecun_normal', return_sequences=True))(inputs)\n",
    "x = Bidirectional(LSTM(120,recurrent_dropout=0.2, kernel_initializer='lecun_normal'))(x)\n",
    "x = Dense(50, activation='sigmoid')(x)\n",
    "x = Dropout(0.1)(x)\n",
    "x = Dense(20,activation='elu')(x)\n",
    "output = Dense(1,activation='linear')(x)\n",
    "\n",
    "model9 = Model(inputs=inputs, outputs=output)\n",
    "model9.compile(loss='mse', optimizer='adam')\n",
    "model9.fit(X_train, y_train, epochs=10, batch_size=128, validation_data=(X_val, y_val), verbose=1, shuffle=False)"
   ]
  },
  {
   "cell_type": "code",
   "execution_count": 26,
   "metadata": {},
   "outputs": [
    {
     "name": "stdout",
     "output_type": "stream",
     "text": [
      "LSTM: RMSE val: 0.42204622355875554  - RMSE train: 0.3319195448921849\n",
      "CPU times: user 2min 36s, sys: 24.6 s, total: 3min\n",
      "Wall time: 2min 7s\n"
     ]
    }
   ],
   "source": [
    "%%time\n",
    "y_pred_train_9 = model9.predict(X_train)\n",
    "y_pred_val_9 = model9.predict(X_val)\n",
    "\n",
    "validation_RMSE.append(np.sqrt(mean_squared_error(y_val, y_pred_val_9)))\n",
    "train_RMSE.append(np.sqrt(mean_squared_error(y_train, y_pred_train_9)))\n",
    "print(f\"LSTM: RMSE val: {np.sqrt(mean_squared_error(y_val, y_pred_val_9))}  - RMSE train: {np.sqrt(mean_squared_error(y_train, y_pred_train_9))}\")"
   ]
  },
  {
   "cell_type": "code",
   "execution_count": 27,
   "metadata": {},
   "outputs": [
    {
     "name": "stdout",
     "output_type": "stream",
     "text": [
      "Train on 1125170 samples, validate on 198560 samples\n",
      "Epoch 1/10\n",
      "1125170/1125170 [==============================] - 74s 66us/step - loss: 0.4162 - val_loss: 0.3133\n",
      "Epoch 2/10\n",
      "1125170/1125170 [==============================] - 68s 60us/step - loss: 0.2221 - val_loss: 0.2006\n",
      "Epoch 3/10\n",
      "1125170/1125170 [==============================] - 68s 60us/step - loss: 0.1880 - val_loss: 0.1947\n",
      "Epoch 4/10\n",
      "1125170/1125170 [==============================] - 68s 60us/step - loss: 0.1595 - val_loss: 0.1716\n",
      "Epoch 5/10\n",
      "1125170/1125170 [==============================] - 68s 60us/step - loss: 0.1445 - val_loss: 0.1812\n",
      "Epoch 6/10\n",
      "1125170/1125170 [==============================] - 68s 60us/step - loss: 0.1302 - val_loss: 0.1580\n",
      "Epoch 7/10\n",
      "1125170/1125170 [==============================] - 68s 60us/step - loss: 0.1228 - val_loss: 0.1706\n",
      "Epoch 8/10\n",
      "1125170/1125170 [==============================] - 67s 60us/step - loss: 0.1140 - val_loss: 0.1696\n",
      "Epoch 9/10\n",
      "1125170/1125170 [==============================] - 68s 60us/step - loss: 0.1072 - val_loss: 0.1462\n",
      "Epoch 10/10\n",
      "1125170/1125170 [==============================] - 68s 60us/step - loss: 0.1038 - val_loss: 0.1748\n",
      "CPU times: user 15min 29s, sys: 2min 32s, total: 18min 2s\n",
      "Wall time: 11min 29s\n"
     ]
    }
   ],
   "source": [
    "%%time\n",
    "\n",
    "inputs = Input(shape=(1,290))\n",
    "x = Bidirectional(LSTM(200,recurrent_dropout=0.2, kernel_initializer='lecun_normal', return_sequences=True))(inputs)\n",
    "x = Bidirectional(LSTM(120,recurrent_dropout=0.2, kernel_initializer='lecun_normal'))(x)\n",
    "x = Dense(50, activation='sigmoid')(x)\n",
    "x = Dropout(0.1)(x)\n",
    "x = Dense(20,activation='elu')(x)\n",
    "output = Dense(1,activation='linear')(x)\n",
    "\n",
    "model10 = Model(inputs=inputs, outputs=output)\n",
    "model10.compile(loss='mse', optimizer='adam')\n",
    "model10.fit(X_train, y_train, epochs=10, batch_size=256, validation_data=(X_val, y_val), verbose=1, shuffle=False)"
   ]
  },
  {
   "cell_type": "code",
   "execution_count": 28,
   "metadata": {},
   "outputs": [
    {
     "name": "stdout",
     "output_type": "stream",
     "text": [
      "LSTM: RMSE val: 0.41814277847721487  - RMSE train: 0.3425614164578089\n",
      "CPU times: user 2min 33s, sys: 22 s, total: 2min 55s\n",
      "Wall time: 2min 8s\n"
     ]
    }
   ],
   "source": [
    "%%time\n",
    "y_pred_train_10 = model10.predict(X_train)\n",
    "y_pred_val_10 = model10.predict(X_val)\n",
    "\n",
    "\n",
    "validation_RMSE.append(np.sqrt(mean_squared_error(y_val, y_pred_val_10)))\n",
    "train_RMSE.append(np.sqrt(mean_squared_error(y_train, y_pred_train_10)))\n",
    "print(f\"LSTM: RMSE val: {np.sqrt(mean_squared_error(y_val, y_pred_val_10))}  - RMSE train: {np.sqrt(mean_squared_error(y_train, y_pred_train_10))}\")"
   ]
  },
  {
   "cell_type": "code",
   "execution_count": 29,
   "metadata": {},
   "outputs": [
    {
     "name": "stdout",
     "output_type": "stream",
     "text": [
      "Train on 1125170 samples, validate on 198560 samples\n",
      "Epoch 1/10\n",
      "1125170/1125170 [==============================] - 67s 60us/step - loss: 0.4310 - val_loss: 0.2449\n",
      "Epoch 2/10\n",
      "1125170/1125170 [==============================] - 60s 53us/step - loss: 0.2173 - val_loss: 0.1952\n",
      "Epoch 3/10\n",
      "1125170/1125170 [==============================] - 60s 53us/step - loss: 0.1792 - val_loss: 0.1834\n",
      "Epoch 4/10\n",
      "1125170/1125170 [==============================] - 60s 53us/step - loss: 0.1574 - val_loss: 0.1768\n",
      "Epoch 5/10\n",
      "1125170/1125170 [==============================] - 60s 53us/step - loss: 0.1424 - val_loss: 0.1771\n",
      "Epoch 6/10\n",
      "1125170/1125170 [==============================] - 59s 53us/step - loss: 0.1321 - val_loss: 0.1775\n",
      "Epoch 7/10\n",
      "1125170/1125170 [==============================] - 59s 52us/step - loss: 0.1229 - val_loss: 0.1500\n",
      "Epoch 8/10\n",
      "1125170/1125170 [==============================] - 58s 52us/step - loss: 0.1155 - val_loss: 0.1543\n",
      "Epoch 9/10\n",
      "1125170/1125170 [==============================] - 58s 52us/step - loss: 0.1042 - val_loss: 0.1601\n",
      "Epoch 10/10\n",
      "1125170/1125170 [==============================] - 58s 52us/step - loss: 0.1053 - val_loss: 0.1640\n",
      "CPU times: user 13min 30s, sys: 2min 13s, total: 15min 43s\n",
      "Wall time: 10min 4s\n"
     ]
    }
   ],
   "source": [
    "%%time\n",
    "\n",
    "inputs = Input(shape=(1,290))\n",
    "x = Bidirectional(LSTM(200,recurrent_dropout=0.2, kernel_initializer='lecun_normal', return_sequences=True))(inputs)\n",
    "x = Bidirectional(LSTM(120,recurrent_dropout=0.2, kernel_initializer='lecun_normal'))(x)\n",
    "x = Dense(50, activation='sigmoid')(x)\n",
    "x = Dropout(0.1)(x)\n",
    "x = Dense(20,activation='elu')(x)\n",
    "output = Dense(1,activation='linear')(x)\n",
    "\n",
    "model11 = Model(inputs=inputs, outputs=output)\n",
    "model11.compile(loss='mse', optimizer='adam')\n",
    "model11.fit(X_train, y_train, epochs=10, batch_size=300, validation_data=(X_val, y_val), verbose=1, shuffle=False)"
   ]
  },
  {
   "cell_type": "code",
   "execution_count": 30,
   "metadata": {},
   "outputs": [
    {
     "name": "stdout",
     "output_type": "stream",
     "text": [
      "LSTM: RMSE val: 0.4049165787333748  - RMSE train: 0.31001435314112175\n",
      "CPU times: user 2min 37s, sys: 24.7 s, total: 3min 2s\n",
      "Wall time: 2min 10s\n"
     ]
    }
   ],
   "source": [
    "%%time\n",
    "y_pred_train_11 = model11.predict(X_train)\n",
    "y_pred_val_11 = model11.predict(X_val)\n",
    "\n",
    "\n",
    "validation_RMSE.append(np.sqrt(mean_squared_error(y_val, y_pred_val_11)))\n",
    "train_RMSE.append(np.sqrt(mean_squared_error(y_train, y_pred_train_11)))\n",
    "print(f\"LSTM: RMSE val: {np.sqrt(mean_squared_error(y_val, y_pred_val_11))}  - RMSE train: {np.sqrt(mean_squared_error(y_train, y_pred_train_11))}\")"
   ]
  },
  {
   "cell_type": "code",
   "execution_count": 31,
   "metadata": {},
   "outputs": [
    {
     "name": "stdout",
     "output_type": "stream",
     "text": [
      "Train on 1125170 samples, validate on 198560 samples\n",
      "Epoch 1/20\n",
      "1125170/1125170 [==============================] - 75s 67us/step - loss: 0.4249 - val_loss: 0.2837\n",
      "Epoch 2/20\n",
      "1125170/1125170 [==============================] - 68s 60us/step - loss: 0.2219 - val_loss: 0.1966\n",
      "Epoch 3/20\n",
      "1125170/1125170 [==============================] - 68s 60us/step - loss: 0.1848 - val_loss: 0.1707\n",
      "Epoch 4/20\n",
      "1125170/1125170 [==============================] - 68s 60us/step - loss: 0.1558 - val_loss: 0.2198\n",
      "Epoch 5/20\n",
      "1125170/1125170 [==============================] - 68s 60us/step - loss: 0.1413 - val_loss: 0.1626\n",
      "Epoch 6/20\n",
      "1125170/1125170 [==============================] - 68s 60us/step - loss: 0.1269 - val_loss: 0.1776\n",
      "Epoch 7/20\n",
      "1125170/1125170 [==============================] - 67s 60us/step - loss: 0.1214 - val_loss: 0.1491\n",
      "Epoch 8/20\n",
      "1125170/1125170 [==============================] - 68s 60us/step - loss: 0.1112 - val_loss: 0.1635\n",
      "Epoch 9/20\n",
      "1125170/1125170 [==============================] - 68s 60us/step - loss: 0.1039 - val_loss: 0.1608\n",
      "Epoch 10/20\n",
      "1125170/1125170 [==============================] - 68s 60us/step - loss: 0.0998 - val_loss: 0.1609\n",
      "Epoch 11/20\n",
      "1125170/1125170 [==============================] - 68s 60us/step - loss: 0.0944 - val_loss: 0.1582\n",
      "Epoch 12/20\n",
      "1125170/1125170 [==============================] - 68s 60us/step - loss: 0.0938 - val_loss: 0.2053\n",
      "Epoch 13/20\n",
      "1125170/1125170 [==============================] - 68s 60us/step - loss: 0.0978 - val_loss: 0.1684\n",
      "Epoch 14/20\n",
      "1125170/1125170 [==============================] - 68s 60us/step - loss: 0.0864 - val_loss: 0.1574\n",
      "Epoch 15/20\n",
      "1125170/1125170 [==============================] - 68s 60us/step - loss: 0.0847 - val_loss: 0.1568\n",
      "Epoch 16/20\n",
      "1125170/1125170 [==============================] - 68s 60us/step - loss: 0.0842 - val_loss: 0.1632\n",
      "Epoch 17/20\n",
      "1125170/1125170 [==============================] - 68s 60us/step - loss: 0.0773 - val_loss: 0.1814\n",
      "Epoch 18/20\n",
      "1125170/1125170 [==============================] - 68s 60us/step - loss: 0.0788 - val_loss: 0.1669\n",
      "Epoch 19/20\n",
      "1125170/1125170 [==============================] - 68s 60us/step - loss: 0.0766 - val_loss: 0.1478\n",
      "Epoch 20/20\n",
      "1125170/1125170 [==============================] - 68s 60us/step - loss: 0.0719 - val_loss: 0.1590\n",
      "CPU times: user 30min 48s, sys: 4min 58s, total: 35min 46s\n",
      "Wall time: 22min 45s\n"
     ]
    }
   ],
   "source": [
    "%%time\n",
    "\n",
    "inputs = Input(shape=(1,290))\n",
    "x = Bidirectional(LSTM(200,recurrent_dropout=0.2, kernel_initializer='lecun_normal', return_sequences=True))(inputs)\n",
    "x = Bidirectional(LSTM(120,recurrent_dropout=0.2, kernel_initializer='lecun_normal'))(x)\n",
    "x = Dense(50, activation='sigmoid')(x)\n",
    "x = Dropout(0.1)(x)\n",
    "x = Dense(20,activation='elu')(x)\n",
    "output = Dense(1,activation='linear')(x)\n",
    "\n",
    "model12 = Model(inputs=inputs, outputs=output)\n",
    "model12.compile(loss='mse', optimizer='adam')\n",
    "model12.fit(X_train, y_train, epochs=20, batch_size=256, validation_data=(X_val, y_val), verbose=1, shuffle=False)"
   ]
  },
  {
   "cell_type": "code",
   "execution_count": 32,
   "metadata": {},
   "outputs": [
    {
     "name": "stdout",
     "output_type": "stream",
     "text": [
      "LSTM: RMSE val: 0.3988074428296092  - RMSE train: 0.25100096649775955\n",
      "CPU times: user 2min 34s, sys: 21.5 s, total: 2min 55s\n",
      "Wall time: 2min 8s\n"
     ]
    }
   ],
   "source": [
    "%%time\n",
    "y_pred_train_12 = model12.predict(X_train)\n",
    "y_pred_val_12 = model12.predict(X_val)\n",
    "\n",
    "\n",
    "validation_RMSE.append(np.sqrt(mean_squared_error(y_val, y_pred_val_12)))\n",
    "train_RMSE.append(np.sqrt(mean_squared_error(y_train, y_pred_train_12)))\n",
    "print(f\"LSTM: RMSE val: {np.sqrt(mean_squared_error(y_val, y_pred_val_12))}  - RMSE train: {np.sqrt(mean_squared_error(y_train, y_pred_train_12))}\")"
   ]
  },
  {
   "cell_type": "code",
   "execution_count": 33,
   "metadata": {},
   "outputs": [
    {
     "name": "stdout",
     "output_type": "stream",
     "text": [
      "Train on 1125170 samples, validate on 198560 samples\n",
      "Epoch 1/8\n",
      "1125170/1125170 [==============================] - 76s 68us/step - loss: 0.4308 - val_loss: 0.2546\n",
      "Epoch 2/8\n",
      "1125170/1125170 [==============================] - 68s 61us/step - loss: 0.2264 - val_loss: 0.2028\n",
      "Epoch 3/8\n",
      "1125170/1125170 [==============================] - 68s 60us/step - loss: 0.1896 - val_loss: 0.1958\n",
      "Epoch 4/8\n",
      "1125170/1125170 [==============================] - 68s 60us/step - loss: 0.1676 - val_loss: 0.1947\n",
      "Epoch 5/8\n",
      "1125170/1125170 [==============================] - 68s 60us/step - loss: 0.1459 - val_loss: 0.2029\n",
      "Epoch 6/8\n",
      "1125170/1125170 [==============================] - 68s 60us/step - loss: 0.1309 - val_loss: 0.1750\n",
      "Epoch 7/8\n",
      "1125170/1125170 [==============================] - 68s 60us/step - loss: 0.1249 - val_loss: 0.1750\n",
      "Epoch 8/8\n",
      "1125170/1125170 [==============================] - 68s 60us/step - loss: 0.1168 - val_loss: 0.1707\n",
      "CPU times: user 12min 31s, sys: 2min 3s, total: 14min 34s\n",
      "Wall time: 9min 16s\n"
     ]
    }
   ],
   "source": [
    "%%time\n",
    "\n",
    "inputs = Input(shape=(1,290))\n",
    "x = Bidirectional(LSTM(200,recurrent_dropout=0.2, kernel_initializer='lecun_normal', return_sequences=True))(inputs)\n",
    "x = Bidirectional(LSTM(120,recurrent_dropout=0.2, kernel_initializer='lecun_normal'))(x)\n",
    "x = Dense(50, activation='sigmoid')(x)\n",
    "x = Dropout(0.1)(x)\n",
    "x = Dense(20,activation='elu')(x)\n",
    "output = Dense(1,activation='linear')(x)\n",
    "\n",
    "model13 = Model(inputs=inputs, outputs=output)\n",
    "model13.compile(loss='mse', optimizer='adam')\n",
    "model13.fit(X_train, y_train, epochs=8, batch_size=256, validation_data=(X_val, y_val), verbose=1, shuffle=False)"
   ]
  },
  {
   "cell_type": "code",
   "execution_count": 34,
   "metadata": {},
   "outputs": [
    {
     "name": "stdout",
     "output_type": "stream",
     "text": [
      "LSTM: RMSE val: 0.41316517648498696  - RMSE train: 0.3132140286283794\n",
      "CPU times: user 2min 41s, sys: 24.4 s, total: 3min 6s\n",
      "Wall time: 2min 13s\n"
     ]
    }
   ],
   "source": [
    "%%time\n",
    "y_pred_train_13 = model13.predict(X_train)\n",
    "y_pred_val_13 = model13.predict(X_val)\n",
    "\n",
    "\n",
    "validation_RMSE.append(np.sqrt(mean_squared_error(y_val, y_pred_val_13)))\n",
    "train_RMSE.append(np.sqrt(mean_squared_error(y_train, y_pred_train_13)))\n",
    "print(f\"LSTM: RMSE val: {np.sqrt(mean_squared_error(y_val, y_pred_val_13))}  - RMSE train: {np.sqrt(mean_squared_error(y_train, y_pred_train_13))}\")"
   ]
  },
  {
   "cell_type": "code",
   "execution_count": 35,
   "metadata": {},
   "outputs": [
    {
     "name": "stdout",
     "output_type": "stream",
     "text": [
      "Train on 1125170 samples, validate on 198560 samples\n",
      "Epoch 1/10\n",
      "1125170/1125170 [==============================] - 105s 94us/step - loss: 0.4396 - val_loss: 0.2623\n",
      "Epoch 2/10\n",
      "1125170/1125170 [==============================] - 97s 86us/step - loss: 0.2305 - val_loss: 0.2072\n",
      "Epoch 3/10\n",
      "1125170/1125170 [==============================] - 97s 86us/step - loss: 0.1879 - val_loss: 0.2100\n",
      "Epoch 4/10\n",
      "1125170/1125170 [==============================] - 97s 86us/step - loss: 0.1653 - val_loss: 0.1975\n",
      "Epoch 5/10\n",
      "1125170/1125170 [==============================] - 97s 86us/step - loss: 0.1485 - val_loss: 0.1702\n",
      "Epoch 6/10\n",
      "1125170/1125170 [==============================] - 97s 86us/step - loss: 0.1353 - val_loss: 0.1614\n",
      "Epoch 7/10\n",
      "1125170/1125170 [==============================] - 97s 86us/step - loss: 0.1226 - val_loss: 0.1727\n",
      "Epoch 8/10\n",
      "1125170/1125170 [==============================] - 97s 86us/step - loss: 0.1168 - val_loss: 0.1857\n",
      "Epoch 9/10\n",
      "1125170/1125170 [==============================] - 97s 86us/step - loss: 0.1101 - val_loss: 0.1681\n",
      "Epoch 10/10\n",
      "1125170/1125170 [==============================] - 97s 86us/step - loss: 0.1020 - val_loss: 0.1795\n",
      "CPU times: user 18min 59s, sys: 4min 9s, total: 23min 8s\n",
      "Wall time: 16min 21s\n"
     ]
    }
   ],
   "source": [
    "%%time\n",
    "\n",
    "inputs = Input(shape=(1,290))\n",
    "x = Bidirectional(LSTM(400,recurrent_dropout=0.2, kernel_initializer='lecun_normal', return_sequences=True))(inputs)\n",
    "x = Bidirectional(LSTM(240,recurrent_dropout=0.2, kernel_initializer='lecun_normal'))(x)\n",
    "x = Dense(50, activation='sigmoid')(x)\n",
    "x = Dropout(0.1)(x)\n",
    "x = Dense(20,activation='elu')(x)\n",
    "output = Dense(1,activation='linear')(x)\n",
    "\n",
    "model14 = Model(inputs=inputs, outputs=output)\n",
    "model14.compile(loss='mse', optimizer='adam')\n",
    "model14.fit(X_train, y_train, epochs=10, batch_size=256, validation_data=(X_val, y_val), verbose=1, shuffle=False)"
   ]
  },
  {
   "cell_type": "code",
   "execution_count": 36,
   "metadata": {},
   "outputs": [
    {
     "name": "stdout",
     "output_type": "stream",
     "text": [
      "LSTM: RMSE val: 0.4237175458585625  - RMSE train: 0.317909333176201\n",
      "CPU times: user 2min 36s, sys: 21.4 s, total: 2min 57s\n",
      "Wall time: 2min 7s\n"
     ]
    }
   ],
   "source": [
    "%%time\n",
    "y_pred_train_14 = model14.predict(X_train)\n",
    "y_pred_val_14 = model14.predict(X_val)\n",
    "\n",
    "\n",
    "validation_RMSE.append(np.sqrt(mean_squared_error(y_val, y_pred_val_14)))\n",
    "train_RMSE.append(np.sqrt(mean_squared_error(y_train, y_pred_train_14)))\n",
    "print(f\"LSTM: RMSE val: {np.sqrt(mean_squared_error(y_val, y_pred_val_14))}  - RMSE train: {np.sqrt(mean_squared_error(y_train, y_pred_train_14))}\")"
   ]
  },
  {
   "cell_type": "code",
   "execution_count": 37,
   "metadata": {},
   "outputs": [
    {
     "name": "stdout",
     "output_type": "stream",
     "text": [
      "Train on 1125170 samples, validate on 198560 samples\n",
      "Epoch 1/10\n",
      "1125170/1125170 [==============================] - 77s 68us/step - loss: 0.4231 - val_loss: 0.3447\n",
      "Epoch 2/10\n",
      "1125170/1125170 [==============================] - 68s 60us/step - loss: 0.2256 - val_loss: 0.2161\n",
      "Epoch 3/10\n",
      "1125170/1125170 [==============================] - 68s 60us/step - loss: 0.1847 - val_loss: 0.1638\n",
      "Epoch 4/10\n",
      "1125170/1125170 [==============================] - 68s 60us/step - loss: 0.1543 - val_loss: 0.2222\n",
      "Epoch 5/10\n",
      "1125170/1125170 [==============================] - 68s 60us/step - loss: 0.1412 - val_loss: 0.1708\n",
      "Epoch 6/10\n",
      "1125170/1125170 [==============================] - 68s 60us/step - loss: 0.1289 - val_loss: 0.1864\n",
      "Epoch 7/10\n",
      "1125170/1125170 [==============================] - 68s 60us/step - loss: 0.1217 - val_loss: 0.1715\n",
      "Epoch 8/10\n",
      "1125170/1125170 [==============================] - 68s 60us/step - loss: 0.1130 - val_loss: 0.1665\n",
      "Epoch 9/10\n",
      "1125170/1125170 [==============================] - 68s 60us/step - loss: 0.1068 - val_loss: 0.1584\n",
      "Epoch 10/10\n",
      "1125170/1125170 [==============================] - 68s 60us/step - loss: 0.1013 - val_loss: 0.1608\n",
      "CPU times: user 15min 38s, sys: 2min 26s, total: 18min 4s\n",
      "Wall time: 11min 32s\n"
     ]
    }
   ],
   "source": [
    "%%time\n",
    "\n",
    "inputs = Input(shape=(1,290))\n",
    "x = Bidirectional(LSTM(180,recurrent_dropout=0.2, kernel_initializer='lecun_normal', return_sequences=True))(inputs)\n",
    "x = Bidirectional(LSTM(60,recurrent_dropout=0.2, kernel_initializer='lecun_normal'))(x)\n",
    "x = Dense(50, activation='sigmoid')(x)\n",
    "x = Dropout(0.1)(x)\n",
    "x = Dense(20,activation='elu')(x)\n",
    "output = Dense(1,activation='linear')(x)\n",
    "\n",
    "model15 = Model(inputs=inputs, outputs=output)\n",
    "model15.compile(loss='mse', optimizer='adam')\n",
    "model15.fit(X_train, y_train, epochs=10, batch_size=256, validation_data=(X_val, y_val), verbose=1, shuffle=False)"
   ]
  },
  {
   "cell_type": "code",
   "execution_count": 38,
   "metadata": {},
   "outputs": [
    {
     "name": "stdout",
     "output_type": "stream",
     "text": [
      "LSTM: RMSE val: 0.4010463987461347  - RMSE train: 0.2987227451916132\n",
      "CPU times: user 2min 38s, sys: 20.7 s, total: 2min 59s\n",
      "Wall time: 2min 13s\n"
     ]
    }
   ],
   "source": [
    "%%time\n",
    "y_pred_train_15 = model15.predict(X_train)\n",
    "y_pred_val_15 = model15.predict(X_val)\n",
    "\n",
    "\n",
    "validation_RMSE.append(np.sqrt(mean_squared_error(y_val, y_pred_val_15)))\n",
    "train_RMSE.append(np.sqrt(mean_squared_error(y_train, y_pred_train_15)))\n",
    "print(f\"LSTM: RMSE val: {np.sqrt(mean_squared_error(y_val, y_pred_val_15))}  - RMSE train: {np.sqrt(mean_squared_error(y_train, y_pred_train_15))}\")"
   ]
  },
  {
   "cell_type": "code",
   "execution_count": 39,
   "metadata": {},
   "outputs": [
    {
     "name": "stdout",
     "output_type": "stream",
     "text": [
      "Train on 1125170 samples, validate on 198560 samples\n",
      "Epoch 1/20\n",
      "1125170/1125170 [==============================] - 77s 68us/step - loss: 0.4310 - val_loss: 0.2611\n",
      "Epoch 2/20\n",
      "1125170/1125170 [==============================] - 67s 60us/step - loss: 0.2278 - val_loss: 0.2147\n",
      "Epoch 3/20\n",
      "1125170/1125170 [==============================] - 67s 60us/step - loss: 0.1884 - val_loss: 0.2032\n",
      "Epoch 4/20\n",
      "1125170/1125170 [==============================] - 67s 60us/step - loss: 0.1608 - val_loss: 0.1739\n",
      "Epoch 5/20\n",
      "1125170/1125170 [==============================] - 67s 59us/step - loss: 0.1458 - val_loss: 0.1725\n",
      "Epoch 6/20\n",
      "1125170/1125170 [==============================] - 67s 60us/step - loss: 0.1315 - val_loss: 0.1527\n",
      "Epoch 7/20\n",
      "1125170/1125170 [==============================] - 67s 60us/step - loss: 0.1275 - val_loss: 0.1821\n",
      "Epoch 8/20\n",
      "1125170/1125170 [==============================] - 67s 60us/step - loss: 0.1142 - val_loss: 0.1737\n",
      "Epoch 9/20\n",
      "1125170/1125170 [==============================] - 67s 60us/step - loss: 0.1092 - val_loss: 0.1552\n",
      "Epoch 10/20\n",
      "1125170/1125170 [==============================] - 67s 60us/step - loss: 0.1036 - val_loss: 0.1532\n",
      "Epoch 11/20\n",
      "1125170/1125170 [==============================] - 67s 60us/step - loss: 0.1003 - val_loss: 0.1631\n",
      "Epoch 12/20\n",
      "1125170/1125170 [==============================] - 67s 60us/step - loss: 0.0956 - val_loss: 0.1450\n",
      "Epoch 13/20\n",
      "1125170/1125170 [==============================] - 67s 59us/step - loss: 0.0919 - val_loss: 0.1866\n",
      "Epoch 14/20\n",
      "1125170/1125170 [==============================] - 67s 59us/step - loss: 0.0887 - val_loss: 0.1597\n",
      "Epoch 15/20\n",
      "1125170/1125170 [==============================] - 67s 60us/step - loss: 0.0877 - val_loss: 0.1585\n",
      "Epoch 16/20\n",
      "1125170/1125170 [==============================] - 67s 60us/step - loss: 0.0863 - val_loss: 0.1610\n",
      "Epoch 17/20\n",
      "1125170/1125170 [==============================] - 67s 59us/step - loss: 0.0862 - val_loss: 0.1521\n",
      "Epoch 18/20\n",
      "1125170/1125170 [==============================] - 67s 60us/step - loss: 0.0793 - val_loss: 0.1682\n",
      "Epoch 19/20\n",
      "1125170/1125170 [==============================] - 67s 60us/step - loss: 0.0819 - val_loss: 0.1686\n",
      "Epoch 20/20\n",
      "1125170/1125170 [==============================] - 67s 60us/step - loss: 0.0775 - val_loss: 0.1566\n",
      "CPU times: user 30min 53s, sys: 4min 38s, total: 35min 31s\n",
      "Wall time: 22min 36s\n"
     ]
    }
   ],
   "source": [
    "%%time\n",
    "\n",
    "inputs = Input(shape=(1,290))\n",
    "x = Bidirectional(LSTM(100,recurrent_dropout=0.2, kernel_initializer='lecun_normal', return_sequences=True))(inputs)\n",
    "x = Bidirectional(LSTM(50,recurrent_dropout=0.2, kernel_initializer='lecun_normal'))(x)\n",
    "x = Dense(50, activation='sigmoid')(x)\n",
    "x = Dropout(0.1)(x)\n",
    "x = Dense(20,activation='elu')(x)\n",
    "output = Dense(1,activation='linear')(x)\n",
    "\n",
    "model16 = Model(inputs=inputs, outputs=output)\n",
    "model16.compile(loss='mse', optimizer='adam')\n",
    "model16.fit(X_train, y_train, epochs=20, batch_size=256, validation_data=(X_val, y_val), verbose=1, shuffle=False)"
   ]
  },
  {
   "cell_type": "code",
   "execution_count": 40,
   "metadata": {},
   "outputs": [
    {
     "name": "stdout",
     "output_type": "stream",
     "text": [
      "LSTM: RMSE val: 0.39578673288964145  - RMSE train: 0.2518959676988409\n",
      "CPU times: user 2min 38s, sys: 20.3 s, total: 2min 58s\n",
      "Wall time: 2min 13s\n"
     ]
    }
   ],
   "source": [
    "%%time\n",
    "y_pred_train_16 = model16.predict(X_train)\n",
    "y_pred_val_16 = model16.predict(X_val)\n",
    "\n",
    "\n",
    "validation_RMSE.append(np.sqrt(mean_squared_error(y_val, y_pred_val_16)))\n",
    "train_RMSE.append(np.sqrt(mean_squared_error(y_train, y_pred_train_16)))\n",
    "print(f\"LSTM: RMSE val: {np.sqrt(mean_squared_error(y_val, y_pred_val_16))}  - RMSE train: {np.sqrt(mean_squared_error(y_train, y_pred_train_16))}\")"
   ]
  },
  {
   "cell_type": "code",
   "execution_count": 41,
   "metadata": {},
   "outputs": [
    {
     "name": "stdout",
     "output_type": "stream",
     "text": [
      "[0.498263463600939, 0.4187457246850832, 0.3886240025879879, 0.40751301144298535, 0.4027132259646394, 0.41295564088532694, 0.4095827585142021, 0.42204622355875554, 0.41814277847721487, 0.4049165787333748, 0.3988074428296092, 0.41316517648498696, 0.4237175458585625, 0.4010463987461347, 0.39578673288964145]\n"
     ]
    }
   ],
   "source": [
    "print(validation_RMSE)"
   ]
  },
  {
   "cell_type": "code",
   "execution_count": 42,
   "metadata": {},
   "outputs": [
    {
     "name": "stdout",
     "output_type": "stream",
     "text": [
      "[0.44492003342182757, 0.31612219724609214, 0.2709763217969909, 0.2975023635939494, 0.2781350547006209, 0.32001331015233897, 0.304001156275449, 0.3319195448921849, 0.3425614164578089, 0.31001435314112175, 0.25100096649775955, 0.3132140286283794, 0.317909333176201, 0.2987227451916132, 0.2518959676988409]\n"
     ]
    }
   ],
   "source": [
    "print(train_RMSE)"
   ]
  },
  {
   "cell_type": "code",
   "execution_count": 43,
   "metadata": {},
   "outputs": [],
   "source": [
    "X_test = x_test_reduced.values\n",
    "X_test = X_test.reshape((X_test.shape[0],1,X_test.shape[1]))\n",
    "\n",
    "y_pred_submit = model10.predict(X_test)"
   ]
  },
  {
   "cell_type": "code",
   "execution_count": 44,
   "metadata": {},
   "outputs": [
    {
     "name": "stderr",
     "output_type": "stream",
     "text": [
      "/anaconda/envs/py36/lib/python3.6/site-packages/IPython/core/interactiveshell.py:2785: DtypeWarning: Columns (1) have mixed types. Specify dtype option on import or set low_memory=False.\n",
      "  interactivity=interactivity, compiler=compiler, result=result)\n"
     ]
    }
   ],
   "source": [
    "test_id = pd.read_csv('test_grouped_id.csv')\n",
    "test_id = test_id.loc[:, ~test_id.columns.str.contains('^Unnamed')]\n",
    "\n"
   ]
  },
  {
   "cell_type": "code",
   "execution_count": 45,
   "metadata": {},
   "outputs": [
    {
     "data": {
      "text/plain": [
       "(296530, 1)"
      ]
     },
     "execution_count": 45,
     "metadata": {},
     "output_type": "execute_result"
    }
   ],
   "source": [
    "y_pred_submit.shape"
   ]
  },
  {
   "cell_type": "code",
   "execution_count": 46,
   "metadata": {},
   "outputs": [
    {
     "data": {
      "text/plain": [
       "(296530, 1)"
      ]
     },
     "execution_count": 46,
     "metadata": {},
     "output_type": "execute_result"
    }
   ],
   "source": [
    "test_id.shape"
   ]
  },
  {
   "cell_type": "code",
   "execution_count": 47,
   "metadata": {
    "scrolled": true
   },
   "outputs": [
    {
     "data": {
      "text/plain": [
       "pandas.core.frame.DataFrame"
      ]
     },
     "execution_count": 47,
     "metadata": {},
     "output_type": "execute_result"
    }
   ],
   "source": [
    "type(test_id)"
   ]
  },
  {
   "cell_type": "code",
   "execution_count": 48,
   "metadata": {},
   "outputs": [
    {
     "data": {
      "text/plain": [
       "numpy.ndarray"
      ]
     },
     "execution_count": 48,
     "metadata": {},
     "output_type": "execute_result"
    }
   ],
   "source": [
    "type(y_pred_submit)"
   ]
  },
  {
   "cell_type": "code",
   "execution_count": 49,
   "metadata": {
    "scrolled": true
   },
   "outputs": [
    {
     "data": {
      "text/plain": [
       "array([[-0.03935778],\n",
       "       [ 0.41296166],\n",
       "       [-0.03295386],\n",
       "       ...,\n",
       "       [-0.03200793],\n",
       "       [-0.03675306],\n",
       "       [-0.03590435]], dtype=float32)"
      ]
     },
     "execution_count": 49,
     "metadata": {},
     "output_type": "execute_result"
    }
   ],
   "source": [
    "y_pred_submit"
   ]
  },
  {
   "cell_type": "code",
   "execution_count": 50,
   "metadata": {},
   "outputs": [],
   "source": [
    "y_pred_submit_reshape = y_pred_submit.reshape(296530)"
   ]
  },
  {
   "cell_type": "code",
   "execution_count": 51,
   "metadata": {},
   "outputs": [
    {
     "data": {
      "text/plain": [
       "array([-0.03935778,  0.41296166, -0.03295386, ..., -0.03200793,\n",
       "       -0.03675306, -0.03590435], dtype=float32)"
      ]
     },
     "execution_count": 51,
     "metadata": {},
     "output_type": "execute_result"
    }
   ],
   "source": [
    "y_pred_submit_reshape"
   ]
  },
  {
   "cell_type": "code",
   "execution_count": 52,
   "metadata": {},
   "outputs": [],
   "source": [
    "submission = pd.DataFrame({'fullVisitorId':test_id['fullVisitorId'],'PredictedLogRevenue':y_pred_submit_reshape})\n",
    "submission['fullVisitorId']= submission['fullVisitorId'].astype(str)\n",
    "submission['PredictedLogRevenue']=submission['PredictedLogRevenue'].apply(lambda x: 0 if x<0 else x)\n",
    "\n",
    "submission.to_csv('submission_model10_LSTM.csv',index=False)"
   ]
  },
  {
   "cell_type": "code",
   "execution_count": 55,
   "metadata": {},
   "outputs": [
    {
     "name": "stdout",
     "output_type": "stream",
     "text": [
      "[1, 2, 3, 4, 5, 6, 7, 8, 9, 10, 11, 12, 13, 14, 15]\n"
     ]
    }
   ],
   "source": [
    "X_index = list(range(1,len(validation_RMSE)+1))\n",
    "print(X_index)"
   ]
  },
  {
   "cell_type": "code",
   "execution_count": 57,
   "metadata": {},
   "outputs": [
    {
     "data": {
      "image/png": "[encoded data removed]",
      "text/plain": [
       "<Figure size 432x288 with 1 Axes>"
      ]
     },
     "metadata": {
      "needs_background": "light"
     },
     "output_type": "display_data"
    }
   ],
   "source": [
    "import matplotlib.pyplot as plt\n",
    "%matplotlib inline\n",
    "\n",
    "\n",
    "plt.plot(X_index, validation_RMSE, \"b-\",label=\"Validation\")\n",
    "plt.plot(X_index, train_RMSE, \"r-\",label=\"Train\")\n",
    "plt.xlabel(\"Model Number\")\n",
    "plt.ylabel(\"Root Mean Square Error\")\n",
    "plt.legend()\n",
    "plt.show()"
   ]
  },
  {
   "cell_type": "code",
   "execution_count": null,
   "metadata": {},
   "outputs": [],
   "source": []
  }
 ],
 "metadata": {
  "kernelspec": {
   "display_name": "Python 3.6 - AzureML",
   "language": "python",
   "name": "python3-azureml"
  },
  "language_info": {
   "codemirror_mode": {
    "name": "ipython",
    "version": 3
   },
   "file_extension": ".py",
   "mimetype": "text/x-python",
   "name": "python",
   "nbconvert_exporter": "python",
   "pygments_lexer": "ipython3",
   "version": "3.6.6"
  }
 },
 "nbformat": 4,
 "nbformat_minor": 2
}
